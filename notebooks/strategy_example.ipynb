{
 "cells": [
  {
   "cell_type": "markdown",
   "id": "1120fb53",
   "metadata": {},
   "source": [
    "# 量化交易系统示例\n",
    "\n",
    "这个笔记本演示了如何使用量化交易系统进行策略开发和回测。"
   ]
  },
  {
   "cell_type": "code",
   "execution_count": 1,
   "id": "fb8d4f5f",
   "metadata": {},
   "outputs": [
    {
     "name": "stdout",
     "output_type": "stream",
     "text": [
      "Loaded environment variables from D:\\Work\\quant_trading\\config\\.env\n"
     ]
    }
   ],
   "source": [
    "import sys\n",
    "from pathlib import Path\n",
    "\n",
    "# 添加项目根目录到路径\n",
    "project_root = Path().resolve().parent\n",
    "sys.path.append(str(project_root))\n",
    "\n",
    "import pandas as pd\n",
    "import numpy as np\n",
    "import matplotlib.pyplot as plt\n",
    "import seaborn as sns\n",
    "\n",
    "# 导入自定义模块\n",
    "from data import DataFetcher, DataManager\n",
    "from strategies import MovingAverageStrategy, MeanReversionStrategy\n",
    "from backtesting import BacktestEngine\n",
    "\n",
    "# 设置matplotlib中文字体\n",
    "plt.rcParams['font.sans-serif'] = ['SimHei']\n",
    "plt.rcParams['axes.unicode_minus'] = False"
   ]
  },
  {
   "cell_type": "markdown",
   "id": "0cf4bd92",
   "metadata": {},
   "source": [
    "## 1. 数据获取"
   ]
  },
  {
   "cell_type": "code",
   "execution_count": null,
   "id": "b9477877",
   "metadata": {},
   "outputs": [],
   "source": [
    "# 初始化数据获取器\n",
    "data_fetcher = DataFetcher()\n",
    "\n",
    "# 获取苹果公司股票数据\n",
    "symbol = 'AAPL'\n",
    "start_date = '2022-01-01'\n",
    "end_date = '2023-12-31'\n",
    "\n",
    "print(f\"正在获取 {symbol} 的股票数据...\")\n",
    "data = data_fetcher.fetch_stock_data(symbol, start_date, end_date)\n",
    "\n",
    "print(f\"数据形状: {data.shape}\")\n",
    "print(f\"日期范围: {data.index[0]} 到 {data.index[-1]}\")\n",
    "data.head()"
   ]
  },
  {
   "cell_type": "markdown",
   "id": "964d30a2",
   "metadata": {},
   "source": [
    "## 2. 数据可视化"
   ]
  },
  {
   "cell_type": "code",
   "execution_count": null,
   "id": "0eb948ec",
   "metadata": {},
   "outputs": [],
   "source": [
    "# 绘制价格图表\n",
    "fig, (ax1, ax2) = plt.subplots(2, 1, figsize=(12, 8))\n",
    "\n",
    "# 价格走势\n",
    "ax1.plot(data.index, data['close'], label='收盘价', linewidth=1)\n",
    "ax1.set_title(f'{symbol} 股价走势')\n",
    "ax1.set_ylabel('价格 ($)')\n",
    "ax1.legend()\n",
    "ax1.grid(True, alpha=0.3)\n",
    "\n",
    "# 成交量\n",
    "ax2.bar(data.index, data['volume'], alpha=0.6, label='成交量')\n",
    "ax2.set_title('成交量')\n",
    "ax2.set_xlabel('日期')\n",
    "ax2.set_ylabel('成交量')\n",
    "ax2.legend()\n",
    "ax2.grid(True, alpha=0.3)\n",
    "\n",
    "plt.tight_layout()\n",
    "plt.show()"
   ]
  },
  {
   "cell_type": "markdown",
   "id": "f295c021",
   "metadata": {},
   "source": [
    "## 3. 移动平均策略"
   ]
  },
  {
   "cell_type": "code",
   "execution_count": null,
   "id": "d2755aa4",
   "metadata": {},
   "outputs": [],
   "source": [
    "# 创建移动平均策略\n",
    "ma_strategy = MovingAverageStrategy(short_window=20, long_window=50)\n",
    "\n",
    "# 生成交易信号\n",
    "ma_signals = ma_strategy.generate_signals(data)\n",
    "\n",
    "print(\"移动平均策略信号统计:\")\n",
    "print(f\"买入信号: {(ma_signals['signal'] == 1).sum()}\")\n",
    "print(f\"卖出信号: {(ma_signals['signal'] == -1).sum()}\")\n",
    "print(f\"持有信号: {(ma_signals['signal'] == 0).sum()}\")\n",
    "\n",
    "ma_signals.head(60)  # 显示前60天的信号"
   ]
  },
  {
   "cell_type": "code",
   "execution_count": null,
   "id": "fd794e02",
   "metadata": {},
   "outputs": [],
   "source": [
    "# 可视化移动平均策略\n",
    "fig, ax = plt.subplots(figsize=(14, 8))\n",
    "\n",
    "# 绘制价格和移动平均线\n",
    "ax.plot(data.index, data['close'], label='收盘价', linewidth=1, alpha=0.8)\n",
    "ax.plot(data.index, ma_signals['short_ma'], label='短期MA(20)', linewidth=1)\n",
    "ax.plot(data.index, ma_signals['long_ma'], label='长期MA(50)', linewidth=1)\n",
    "\n",
    "# 标记买入卖出信号\n",
    "buy_signals = data.index[ma_signals['signal'] == 1]\n",
    "sell_signals = data.index[ma_signals['signal'] == -1]\n",
    "\n",
    "if len(buy_signals) > 0:\n",
    "    ax.scatter(buy_signals, data.loc[buy_signals, 'close'], \n",
    "              color='green', marker='^', s=100, label='买入信号')\n",
    "\n",
    "if len(sell_signals) > 0:\n",
    "    ax.scatter(sell_signals, data.loc[sell_signals, 'close'], \n",
    "              color='red', marker='v', s=100, label='卖出信号')\n",
    "\n",
    "ax.set_title(f'{symbol} - 移动平均交叉策略')\n",
    "ax.set_xlabel('日期')\n",
    "ax.set_ylabel('价格 ($)')\n",
    "ax.legend()\n",
    "ax.grid(True, alpha=0.3)\n",
    "\n",
    "plt.tight_layout()\n",
    "plt.show()"
   ]
  },
  {
   "cell_type": "markdown",
   "id": "ab4dbe13",
   "metadata": {},
   "source": [
    "## 4. 回测分析"
   ]
  },
  {
   "cell_type": "code",
   "execution_count": null,
   "id": "bfda0b6f",
   "metadata": {},
   "outputs": [],
   "source": [
    "# 运行回测\n",
    "backtest_engine = BacktestEngine(initial_capital=100000)\n",
    "ma_results = backtest_engine.run_backtest(ma_strategy, data)\n",
    "\n",
    "print(\"=\"*50)\n",
    "print(\"移动平均策略回测结果\")\n",
    "print(\"=\"*50)\n",
    "print(f\"总收益率: {ma_results['total_return']:.2%}\")\n",
    "print(f\"年化收益率: {ma_results['annual_return']:.2%}\")\n",
    "print(f\"年化波动率: {ma_results['volatility']:.2%}\")\n",
    "print(f\"夏普比率: {ma_results['sharpe_ratio']:.2f}\")\n",
    "print(f\"最大回撤: {ma_results['max_drawdown']:.2%}\")\n",
    "print(f\"总交易次数: {ma_results['total_trades']}\")\n",
    "print(f\"胜率: {ma_results['win_rate']:.2%}\")\n",
    "print(f\"盈亏比: {ma_results['profit_factor']:.2f}\")\n",
    "print(f\"最终资金: ${ma_results['final_capital']:,.2f}\")"
   ]
  },
  {
   "cell_type": "markdown",
   "id": "f87b53e8",
   "metadata": {},
   "source": [
    "## 5. 均值回归策略"
   ]
  },
  {
   "cell_type": "code",
   "execution_count": null,
   "id": "17475572",
   "metadata": {},
   "outputs": [],
   "source": [
    "# 创建均值回归策略\n",
    "mr_strategy = MeanReversionStrategy()\n",
    "\n",
    "# 生成交易信号\n",
    "mr_signals = mr_strategy.generate_signals(data)\n",
    "\n",
    "print(\"均值回归策略信号统计:\")\n",
    "print(f\"买入信号: {(mr_signals['signal'] == 1).sum()}\")\n",
    "print(f\"卖出信号: {(mr_signals['signal'] == -1).sum()}\")\n",
    "print(f\"持有信号: {(mr_signals['signal'] == 0).sum()}\")\n",
    "\n",
    "# 运行回测\n",
    "mr_results = backtest_engine.run_backtest(mr_strategy, data)\n",
    "\n",
    "print(\"\\n\" + \"=\"*50)\n",
    "print(\"均值回归策略回测结果\")\n",
    "print(\"=\"*50)\n",
    "print(f\"总收益率: {mr_results['total_return']:.2%}\")\n",
    "print(f\"年化收益率: {mr_results['annual_return']:.2%}\")\n",
    "print(f\"年化波动率: {mr_results['volatility']:.2%}\")\n",
    "print(f\"夏普比率: {mr_results['sharpe_ratio']:.2f}\")\n",
    "print(f\"最大回撤: {mr_results['max_drawdown']:.2%}\")\n",
    "print(f\"总交易次数: {mr_results['total_trades']}\")\n",
    "print(f\"胜率: {mr_results['win_rate']:.2%}\")\n",
    "print(f\"最终资金: ${mr_results['final_capital']:,.2f}\")"
   ]
  },
  {
   "cell_type": "markdown",
   "id": "ce189937",
   "metadata": {},
   "source": [
    "## 6. 策略对比"
   ]
  },
  {
   "cell_type": "code",
   "execution_count": null,
   "id": "638e3097",
   "metadata": {},
   "outputs": [],
   "source": [
    "# 创建策略对比表\n",
    "comparison_data = {\n",
    "    '指标': ['总收益率', '年化收益率', '年化波动率', '夏普比率', '最大回撤', '胜率', '总交易次数'],\n",
    "    '移动平均策略': [\n",
    "        f\"{ma_results['total_return']:.2%}\",\n",
    "        f\"{ma_results['annual_return']:.2%}\",\n",
    "        f\"{ma_results['volatility']:.2%}\",\n",
    "        f\"{ma_results['sharpe_ratio']:.2f}\",\n",
    "        f\"{ma_results['max_drawdown']:.2%}\",\n",
    "        f\"{ma_results['win_rate']:.2%}\",\n",
    "        ma_results['total_trades']\n",
    "    ],\n",
    "    '均值回归策略': [\n",
    "        f\"{mr_results['total_return']:.2%}\",\n",
    "        f\"{mr_results['annual_return']:.2%}\",\n",
    "        f\"{mr_results['volatility']:.2%}\",\n",
    "        f\"{mr_results['sharpe_ratio']:.2f}\",\n",
    "        f\"{mr_results['max_drawdown']:.2%}\",\n",
    "        f\"{mr_results['win_rate']:.2%}\",\n",
    "        mr_results['total_trades']\n",
    "    ]\n",
    "}\n",
    "\n",
    "comparison_df = pd.DataFrame(comparison_data)\n",
    "print(\"策略性能对比:\")\n",
    "print(comparison_df.to_string(index=False))"
   ]
  },
  {
   "cell_type": "markdown",
   "id": "8159c314",
   "metadata": {},
   "source": [
    "## 7. 结论\n",
    "\n",
    "通过这个示例，我们可以看到：\n",
    "\n",
    "1. **移动平均策略**：适合趋势市场，能够捕捉长期趋势\n",
    "2. **均值回归策略**：适合震荡市场，能够在价格偏离均值时获利\n",
    "3. **策略选择**：应根据市场状况选择合适的策略\n",
    "4. **风险管理**：需要关注最大回撤和夏普比率等风险指标\n",
    "\n",
    "### 下一步:\n",
    "- 尝试不同的参数组合\n",
    "- 组合多个策略\n",
    "- 添加风险管理模块\n",
    "- 在更多股票上测试策略的稳定性"
   ]
  }
 ],
 "metadata": {
  "kernelspec": {
   "display_name": "Python 3 (ipykernel)",
   "language": "python",
   "name": "python3"
  },
  "language_info": {
   "codemirror_mode": {
    "name": "ipython",
    "version": 3
   },
   "file_extension": ".py",
   "mimetype": "text/x-python",
   "name": "python",
   "nbconvert_exporter": "python",
   "pygments_lexer": "ipython3",
   "version": "3.11.13"
  }
 },
 "nbformat": 4,
 "nbformat_minor": 5
}
